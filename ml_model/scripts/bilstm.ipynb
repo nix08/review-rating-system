{
 "cells": [
  {
   "cell_type": "code",
   "execution_count": 13,
   "id": "3c1e3aeb",
   "metadata": {},
   "outputs": [],
   "source": [
    "import pandas as pd\n",
    "import numpy as np\n",
    "import re\n",
    "import os\n",
    "import matplotlib.pyplot as plt\n",
    "import seaborn as sns\n",
    "from tensorflow.keras.preprocessing.text import Tokenizer\n",
    "from tensorflow.keras.preprocessing.sequence import pad_sequences\n",
    "from tensorflow.keras.models import Sequential\n",
    "from tensorflow.keras.layers import Embedding, Bidirectional, LSTM, Dense, Dropout\n",
    "from tensorflow.keras.utils import to_categorical\n",
    "from sklearn.metrics import classification_report, confusion_matrix\n",
    "from sklearn.model_selection import train_test_split\n",
    "from sklearn.utils.class_weight import compute_class_weight\n",
    "import joblib\n",
    "\n",
    "os.makedirs('D:/Projects/review-rating-system/ml_model/plots', exist_ok=True)\n",
    "os.makedirs('D:/Projects/review-rating-system/ml_model/deep_models', exist_ok=True)"
   ]
  },
  {
   "cell_type": "code",
   "execution_count": 3,
   "id": "287c176e",
   "metadata": {},
   "outputs": [],
   "source": [
    "df_bal = pd.read_csv('D:/Projects/review-rating-system/ml_model/data/balanced_reviews.csv')\n",
    "df_imb = pd.read_csv('D:/Projects/review-rating-system/ml_model/data/imbalanced_reviews.csv')\n",
    "\n",
    "def clean_text(text):\n",
    "    text = str(text).lower()\n",
    "    text = re.sub(r'http\\S+|www\\S+', '', text)\n",
    "    text = re.sub(r'[^\\w\\s]', '', text)\n",
    "    text = re.sub(r'\\d+', '', text)\n",
    "    text = re.sub(r'[^\\x00-\\x7F]+', '', text)\n",
    "    text = re.sub(r'\\s+', ' ', text).strip()\n",
    "    return text\n",
    "\n",
    "df_bal['clean_text'] = df_bal['text'].apply(clean_text)\n",
    "df_imb['clean_text'] = df_imb['text'].apply(clean_text)"
   ]
  },
  {
   "cell_type": "markdown",
   "id": "cd83f09b",
   "metadata": {},
   "source": [
    "Padding and Tokenizing"
   ]
  },
  {
   "cell_type": "code",
   "execution_count": 14,
   "id": "eaecb501",
   "metadata": {},
   "outputs": [],
   "source": [
    "tokenizer = Tokenizer(num_words=10000, oov_token=\"<OOV>\")\n",
    "tokenizer.fit_on_texts(pd.concat([df_bal['clean_text'], df_imb['clean_text']]))\n",
    "\n",
    "def prepare_data(df):\n",
    "    sequences = tokenizer.texts_to_sequences(df['clean_text'])\n",
    "    padded = pad_sequences(sequences, maxlen=200, padding='post', truncating='post')\n",
    "    labels = to_categorical(df['rating'] - 1)\n",
    "    return padded, labels\n",
    "\n",
    "X_bal, y_bal = prepare_data(df_bal)\n",
    "X_imb, y_imb = prepare_data(df_imb)"
   ]
  },
  {
   "cell_type": "markdown",
   "id": "e5d0dc90",
   "metadata": {},
   "source": [
    "Train-Test Split"
   ]
  },
  {
   "cell_type": "code",
   "execution_count": 15,
   "id": "9ae659b0",
   "metadata": {},
   "outputs": [
    {
     "name": "stdout",
     "output_type": "stream",
     "text": [
      "Balanced → Train: 4000, Test: 1000\n",
      "Imbalanced → Train: 4800, Test: 1200\n"
     ]
    }
   ],
   "source": [
    "X_train_bal, X_test_bal, y_train_bal, y_test_bal = train_test_split(X_bal, y_bal, test_size=0.2, random_state=42)\n",
    "X_train_imb, X_test_imb, y_train_imb, y_test_imb = train_test_split(X_imb, y_imb, test_size=0.2, random_state=42)\n",
    "\n",
    "print(f\"Balanced → Train: {X_train_bal.shape[0]}, Test: {X_test_bal.shape[0]}\")\n",
    "print(f\"Imbalanced → Train: {X_train_imb.shape[0]}, Test: {X_test_imb.shape[0]}\")"
   ]
  },
  {
   "cell_type": "markdown",
   "id": "3b6c65e9",
   "metadata": {},
   "source": [
    "Model Building"
   ]
  },
  {
   "cell_type": "code",
   "execution_count": 16,
   "id": "5a115e53",
   "metadata": {},
   "outputs": [],
   "source": [
    "def build_model():\n",
    "    model = Sequential([\n",
    "        Embedding(input_dim=10000, output_dim=128, input_length=200),\n",
    "        Bidirectional(LSTM(64)),\n",
    "        Dropout(0.5),\n",
    "        Dense(64, activation='relu'),\n",
    "        Dropout(0.3),\n",
    "        Dense(5, activation='softmax')\n",
    "    ])\n",
    "    model.compile(loss='categorical_crossentropy', optimizer='adam', metrics=['accuracy'])\n",
    "    return model"
   ]
  },
  {
   "cell_type": "markdown",
   "id": "1a509e8d",
   "metadata": {},
   "source": [
    "Training on balanced "
   ]
  },
  {
   "cell_type": "code",
   "execution_count": 18,
   "id": "d1bc738e",
   "metadata": {},
   "outputs": [
    {
     "name": "stdout",
     "output_type": "stream",
     "text": [
      "Epoch 1/10\n",
      "\u001b[1m25/25\u001b[0m \u001b[32m━━━━━━━━━━━━━━━━━━━━\u001b[0m\u001b[37m\u001b[0m \u001b[1m4s\u001b[0m 96ms/step - accuracy: 0.2059 - loss: 1.6081 - val_accuracy: 0.2775 - val_loss: 1.5928\n",
      "Epoch 2/10\n",
      "\u001b[1m25/25\u001b[0m \u001b[32m━━━━━━━━━━━━━━━━━━━━\u001b[0m\u001b[37m\u001b[0m \u001b[1m2s\u001b[0m 88ms/step - accuracy: 0.2966 - loss: 1.5698 - val_accuracy: 0.3038 - val_loss: 1.5076\n",
      "Epoch 3/10\n",
      "\u001b[1m25/25\u001b[0m \u001b[32m━━━━━━━━━━━━━━━━━━━━\u001b[0m\u001b[37m\u001b[0m \u001b[1m2s\u001b[0m 87ms/step - accuracy: 0.3709 - loss: 1.4035 - val_accuracy: 0.3938 - val_loss: 1.3630\n",
      "Epoch 4/10\n",
      "\u001b[1m25/25\u001b[0m \u001b[32m━━━━━━━━━━━━━━━━━━━━\u001b[0m\u001b[37m\u001b[0m \u001b[1m2s\u001b[0m 88ms/step - accuracy: 0.4597 - loss: 1.2047 - val_accuracy: 0.4075 - val_loss: 1.3386\n",
      "Epoch 5/10\n",
      "\u001b[1m25/25\u001b[0m \u001b[32m━━━━━━━━━━━━━━━━━━━━\u001b[0m\u001b[37m\u001b[0m \u001b[1m2s\u001b[0m 86ms/step - accuracy: 0.5584 - loss: 1.0280 - val_accuracy: 0.4250 - val_loss: 1.3465\n",
      "Epoch 6/10\n",
      "\u001b[1m25/25\u001b[0m \u001b[32m━━━━━━━━━━━━━━━━━━━━\u001b[0m\u001b[37m\u001b[0m \u001b[1m2s\u001b[0m 87ms/step - accuracy: 0.6300 - loss: 0.8672 - val_accuracy: 0.4200 - val_loss: 1.4888\n",
      "Epoch 7/10\n",
      "\u001b[1m25/25\u001b[0m \u001b[32m━━━━━━━━━━━━━━━━━━━━\u001b[0m\u001b[37m\u001b[0m \u001b[1m2s\u001b[0m 87ms/step - accuracy: 0.6969 - loss: 0.7495 - val_accuracy: 0.4238 - val_loss: 1.6622\n",
      "Epoch 8/10\n",
      "\u001b[1m25/25\u001b[0m \u001b[32m━━━━━━━━━━━━━━━━━━━━\u001b[0m\u001b[37m\u001b[0m \u001b[1m2s\u001b[0m 87ms/step - accuracy: 0.7684 - loss: 0.6106 - val_accuracy: 0.4100 - val_loss: 1.8902\n",
      "Epoch 9/10\n",
      "\u001b[1m25/25\u001b[0m \u001b[32m━━━━━━━━━━━━━━━━━━━━\u001b[0m\u001b[37m\u001b[0m \u001b[1m2s\u001b[0m 86ms/step - accuracy: 0.8225 - loss: 0.4922 - val_accuracy: 0.3975 - val_loss: 2.0409\n",
      "Epoch 10/10\n",
      "\u001b[1m25/25\u001b[0m \u001b[32m━━━━━━━━━━━━━━━━━━━━\u001b[0m\u001b[37m\u001b[0m \u001b[1m2s\u001b[0m 88ms/step - accuracy: 0.8597 - loss: 0.3965 - val_accuracy: 0.4162 - val_loss: 2.4570\n"
     ]
    }
   ],
   "source": [
    "model_bal = build_model()\n",
    "history_bal = model_bal.fit(X_train_bal, y_train_bal, epochs=10, batch_size=128, validation_split=0.2)"
   ]
  },
  {
   "cell_type": "markdown",
   "id": "d363a482",
   "metadata": {},
   "source": [
    "Training on imbalanced"
   ]
  },
  {
   "cell_type": "code",
   "execution_count": 20,
   "id": "d2dbd176",
   "metadata": {},
   "outputs": [
    {
     "name": "stdout",
     "output_type": "stream",
     "text": [
      "Class Weights: {0: np.float64(5.714285714285714), 1: np.float64(3.076923076923077), 2: np.float64(1.9672131147540983), 3: np.float64(1.4791987673343605), 4: np.float64(0.3016022620169651)}\n",
      "Epoch 1/10\n"
     ]
    },
    {
     "name": "stderr",
     "output_type": "stream",
     "text": [
      "C:\\Users\\HP\\AppData\\Local\\Packages\\PythonSoftwareFoundation.Python.3.11_qbz5n2kfra8p0\\LocalCache\\local-packages\\Python311\\site-packages\\keras\\src\\layers\\core\\embedding.py:97: UserWarning: Argument `input_length` is deprecated. Just remove it.\n",
      "  warnings.warn(\n"
     ]
    },
    {
     "name": "stdout",
     "output_type": "stream",
     "text": [
      "\u001b[1m30/30\u001b[0m \u001b[32m━━━━━━━━━━━━━━━━━━━━\u001b[0m\u001b[37m\u001b[0m \u001b[1m4s\u001b[0m 89ms/step - accuracy: 0.3495 - loss: 1.6056 - val_accuracy: 0.5271 - val_loss: 1.5321\n",
      "Epoch 2/10\n",
      "\u001b[1m30/30\u001b[0m \u001b[32m━━━━━━━━━━━━━━━━━━━━\u001b[0m\u001b[37m\u001b[0m \u001b[1m2s\u001b[0m 79ms/step - accuracy: 0.5219 - loss: 1.5676 - val_accuracy: 0.5094 - val_loss: 1.4388\n",
      "Epoch 3/10\n",
      "\u001b[1m30/30\u001b[0m \u001b[32m━━━━━━━━━━━━━━━━━━━━\u001b[0m\u001b[37m\u001b[0m \u001b[1m2s\u001b[0m 79ms/step - accuracy: 0.5661 - loss: 1.4334 - val_accuracy: 0.5437 - val_loss: 1.1488\n",
      "Epoch 4/10\n",
      "\u001b[1m30/30\u001b[0m \u001b[32m━━━━━━━━━━━━━━━━━━━━\u001b[0m\u001b[37m\u001b[0m \u001b[1m2s\u001b[0m 80ms/step - accuracy: 0.5557 - loss: 1.3014 - val_accuracy: 0.5917 - val_loss: 1.0636\n",
      "Epoch 5/10\n",
      "\u001b[1m30/30\u001b[0m \u001b[32m━━━━━━━━━━━━━━━━━━━━\u001b[0m\u001b[37m\u001b[0m \u001b[1m2s\u001b[0m 80ms/step - accuracy: 0.5979 - loss: 1.0666 - val_accuracy: 0.5042 - val_loss: 1.1870\n",
      "Epoch 6/10\n",
      "\u001b[1m30/30\u001b[0m \u001b[32m━━━━━━━━━━━━━━━━━━━━\u001b[0m\u001b[37m\u001b[0m \u001b[1m2s\u001b[0m 79ms/step - accuracy: 0.6518 - loss: 0.8607 - val_accuracy: 0.5323 - val_loss: 1.2223\n",
      "Epoch 7/10\n",
      "\u001b[1m30/30\u001b[0m \u001b[32m━━━━━━━━━━━━━━━━━━━━\u001b[0m\u001b[37m\u001b[0m \u001b[1m2s\u001b[0m 79ms/step - accuracy: 0.7156 - loss: 0.6583 - val_accuracy: 0.5292 - val_loss: 1.2993\n",
      "Epoch 8/10\n",
      "\u001b[1m30/30\u001b[0m \u001b[32m━━━━━━━━━━━━━━━━━━━━\u001b[0m\u001b[37m\u001b[0m \u001b[1m2s\u001b[0m 79ms/step - accuracy: 0.7576 - loss: 0.5340 - val_accuracy: 0.4354 - val_loss: 1.6021\n",
      "Epoch 9/10\n",
      "\u001b[1m30/30\u001b[0m \u001b[32m━━━━━━━━━━━━━━━━━━━━\u001b[0m\u001b[37m\u001b[0m \u001b[1m2s\u001b[0m 80ms/step - accuracy: 0.7867 - loss: 0.3934 - val_accuracy: 0.5229 - val_loss: 1.6285\n",
      "Epoch 10/10\n",
      "\u001b[1m30/30\u001b[0m \u001b[32m━━━━━━━━━━━━━━━━━━━━\u001b[0m\u001b[37m\u001b[0m \u001b[1m2s\u001b[0m 79ms/step - accuracy: 0.8284 - loss: 0.3213 - val_accuracy: 0.5219 - val_loss: 1.7964\n"
     ]
    }
   ],
   "source": [
    "model_imb = build_model()\n",
    "\n",
    "# Compute class weights\n",
    "y_labels = np.argmax(y_train_imb, axis=1)\n",
    "class_weights = compute_class_weight(class_weight='balanced', classes=np.unique(y_labels), y=y_labels)\n",
    "class_weights_dict = dict(enumerate(class_weights))\n",
    "print(\"Class Weights:\", class_weights_dict)\n",
    "\n",
    "# Train with class weights\n",
    "history_imb = model_imb.fit(X_train_imb, y_train_imb,\n",
    "                            epochs=10,\n",
    "                            batch_size=128,\n",
    "                            validation_split=0.2,\n",
    "                            class_weight=class_weights_dict)"
   ]
  },
  {
   "cell_type": "markdown",
   "id": "b4750c1d",
   "metadata": {},
   "source": [
    "Visualisation and Evaluation"
   ]
  },
  {
   "cell_type": "code",
   "execution_count": 21,
   "id": "656d5ba3",
   "metadata": {},
   "outputs": [
    {
     "name": "stdout",
     "output_type": "stream",
     "text": [
      "\u001b[1m32/32\u001b[0m \u001b[32m━━━━━━━━━━━━━━━━━━━━\u001b[0m\u001b[37m\u001b[0m \u001b[1m1s\u001b[0m 16ms/step\n",
      "📊 Classification Report (balanced):\n",
      "\n",
      "              precision    recall  f1-score   support\n",
      "\n",
      "           0      0.567     0.379     0.454       190\n",
      "           1      0.312     0.250     0.277       192\n",
      "           2      0.364     0.435     0.397       216\n",
      "           3      0.364     0.381     0.372       210\n",
      "           4      0.473     0.594     0.527       192\n",
      "\n",
      "    accuracy                          0.408      1000\n",
      "   macro avg      0.416     0.408     0.405      1000\n",
      "weighted avg      0.413     0.408     0.404      1000\n",
      "\n"
     ]
    },
    {
     "data": {
      "image/png": "[encoded data removed]",
      "text/plain": [
       "<Figure size 640x480 with 2 Axes>"
      ]
     },
     "metadata": {},
     "output_type": "display_data"
    },
    {
     "name": "stdout",
     "output_type": "stream",
     "text": [
      "\u001b[1m38/38\u001b[0m \u001b[32m━━━━━━━━━━━━━━━━━━━━\u001b[0m\u001b[37m\u001b[0m \u001b[1m1s\u001b[0m 15ms/step\n",
      "📊 Classification Report (imbalanced):\n",
      "\n",
      "              precision    recall  f1-score   support\n",
      "\n",
      "           0      0.294     0.312     0.303        32\n",
      "           1      0.346     0.205     0.257        88\n",
      "           2      0.248     0.304     0.273       112\n",
      "           3      0.177     0.397     0.245       151\n",
      "           4      0.839     0.655     0.735       817\n",
      "\n",
      "    accuracy                          0.547      1200\n",
      "   macro avg      0.381     0.375     0.363      1200\n",
      "weighted avg      0.650     0.547     0.584      1200\n",
      "\n"
     ]
    },
    {
     "data": {
      "image/png": "[encoded data removed]",
      "text/plain": [
       "<Figure size 640x480 with 2 Axes>"
      ]
     },
     "metadata": {},
     "output_type": "display_data"
    }
   ],
   "source": [
    "def evaluate_model(model, X_test, y_test, label):\n",
    "    y_pred = model.predict(X_test)\n",
    "    y_pred_classes = np.argmax(y_pred, axis=1)\n",
    "    y_true = np.argmax(y_test, axis=1)\n",
    "\n",
    "    print(f\"📊 Classification Report ({label}):\\n\")\n",
    "    print(classification_report(y_true, y_pred_classes, digits=3))\n",
    "\n",
    "    sns.heatmap(confusion_matrix(y_true, y_pred_classes), annot=True, fmt='d', cmap='Blues')\n",
    "    plt.title(f'Confusion Matrix ({label})')\n",
    "    plt.savefig(f'ml_model/plots/confusion_matrix_bilstm_{label}.png')\n",
    "    plt.show()\n",
    "\n",
    "evaluate_model(model_bal, X_test_bal, y_test_bal, 'balanced')\n",
    "evaluate_model(model_imb, X_test_imb, y_test_imb, 'imbalanced')"
   ]
  },
  {
   "cell_type": "markdown",
   "id": "a7e08450",
   "metadata": {},
   "source": [
    "Saving model and tokenizer"
   ]
  },
  {
   "cell_type": "code",
   "execution_count": 25,
   "id": "3532cf14",
   "metadata": {},
   "outputs": [
    {
     "name": "stderr",
     "output_type": "stream",
     "text": [
      "WARNING:absl:You are saving your model as an HDF5 file via `model.save()` or `keras.saving.save_model(model)`. This file format is considered legacy. We recommend using instead the native Keras format, e.g. `model.save('my_model.keras')` or `keras.saving.save_model(model, 'my_model.keras')`. \n",
      "WARNING:absl:You are saving your model as an HDF5 file via `model.save()` or `keras.saving.save_model(model)`. This file format is considered legacy. We recommend using instead the native Keras format, e.g. `model.save('my_model.keras')` or `keras.saving.save_model(model, 'my_model.keras')`. \n"
     ]
    },
    {
     "data": {
      "text/plain": [
       "['D:/Projects/review-rating-system/ml_model/deep_models/tokenizer_bilstm.pkl']"
      ]
     },
     "execution_count": 25,
     "metadata": {},
     "output_type": "execute_result"
    }
   ],
   "source": [
    "model_bal.save('D:/Projects/review-rating-system/ml_model/deep_models/bilstm_model_balanced.h5')\n",
    "model_imb.save('D:/Projects/review-rating-system/ml_model/deep_models/bilstm_model_imbalanced.h5')\n",
    "joblib.dump(tokenizer, 'D:/Projects/review-rating-system/ml_model/deep_models/tokenizer_bilstm.pkl')"
   ]
  },
  {
   "cell_type": "code",
   "execution_count": null,
   "id": "5bbcb584",
   "metadata": {},
   "outputs": [],
   "source": []
  }
 ],
 "metadata": {
  "kernelspec": {
   "display_name": "Python 3",
   "language": "python",
   "name": "python3"
  },
  "language_info": {
   "codemirror_mode": {
    "name": "ipython",
    "version": 3
   },
   "file_extension": ".py",
   "mimetype": "text/x-python",
   "name": "python",
   "nbconvert_exporter": "python",
   "pygments_lexer": "ipython3",
   "version": "3.11.9"
  }
 },
 "nbformat": 4,
 "nbformat_minor": 5
}
